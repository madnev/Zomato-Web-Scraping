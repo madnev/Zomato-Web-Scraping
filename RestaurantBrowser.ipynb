{
 "cells": [
  {
   "cell_type": "markdown",
   "id": "24f15914-7f21-4c3a-800f-1bfe115b01ac",
   "metadata": {},
   "source": [
    "# __Web Scraping Restaurants from Zomato__"
   ]
  },
  {
   "cell_type": "code",
   "execution_count": 32,
   "id": "e7fe735d-3239-4ca4-b893-2a78d1b4b489",
   "metadata": {},
   "outputs": [],
   "source": [
    "import requests\n",
    "from bs4 import BeautifulSoup\n",
    "import re\n",
    "import pandas as pd\n",
    "from ipywidgets import interactive, HBox, VBox, widgets, interact, interactive_output"
   ]
  },
  {
   "cell_type": "markdown",
   "id": "6f3cad7e-f838-40d0-818d-67affa06b15c",
   "metadata": {},
   "source": [
    "## __Step 1: Scraping the 270 best restaurants in Lisbon__"
   ]
  },
  {
   "cell_type": "markdown",
   "id": "bda376ad-3260-4c6a-b0b9-9f333accacf7",
   "metadata": {},
   "source": [
    "Zomato requires the user to be indentified through their user-agent. \n",
    "For more context: https://developer.mozilla.org/en-US/docs/Web/HTTP/Headers/User-Agent\n",
    "\n",
    "__Google \"what is my user agent\" to find out your user-agent string.__ This code will not work without your specific user agent."
   ]
  },
  {
   "cell_type": "code",
   "execution_count": 33,
   "id": "61ce898d-9f87-4f47-9e59-27e94a2c182b",
   "metadata": {},
   "outputs": [],
   "source": [
    "user_agent='Mozilla/5.0 (Windows NT 10.0; Win64; x64; rv:95.0) Gecko/20100101 Firefox/95.0'\n",
    "\n",
    "headers = {'User-Agent': user_agent}\n",
    "\n",
    "url = 'https://www.zomato.com/grande-lisboa'\n",
    "response = requests.get(url, headers=headers)\n",
    "soup = BeautifulSoup(response.text, \"html.parser\")"
   ]
  },
  {
   "cell_type": "markdown",
   "id": "03cc6b69-3bf7-451c-9bd3-0b39bbf215e4",
   "metadata": {},
   "source": [
    "The scraped website, https://www.zomato.com/grande-lisboa, displays a menu with the 30 most popular localities in Greater Lisbon, and a link for each to find restaurants in this locality. The 30 localities will be put in a list called ___area_names___ and the links for the restaurants page in each locality in ___restaurant_links___."
   ]
  },
  {
   "cell_type": "code",
   "execution_count": 34,
   "id": "01f36b81-d00f-43d2-b520-947108ef0ca5",
   "metadata": {
    "tags": []
   },
   "outputs": [
    {
     "name": "stdout",
     "output_type": "stream",
     "text": [
      "Number of links: 30\n",
      "Number of areas: 30\n"
     ]
    }
   ],
   "source": [
    "all_content = soup.findAll('div', {'class':'sc-bke1zw-0 fIuLDK'})[-1]\n",
    "\n",
    "restaurants_info = all_content.findAll('a')\n",
    "restaurant_links = []\n",
    "for i in range(len(restaurants_info)):\n",
    "    link = restaurants_info[i]['href']\n",
    "    restaurant_links.append(link)\n",
    "\n",
    "print(f\"Number of links: {len(restaurant_links)}\")\n",
    "    \n",
    "areas_info = all_content.findAll('h5')\n",
    "area_names = []\n",
    "for i in range(len(areas_info)):\n",
    "    area = areas_info[i].text.split(' ')[:-2]\n",
    "    name = ' '.join(area)\n",
    "    area_names.append(name)\n",
    "\n",
    "print(f\"Number of areas: {len(areas_info)}\")  "
   ]
  },
  {
   "cell_type": "code",
   "execution_count": 35,
   "id": "a0072940-943d-4ef2-bafa-84a10f132350",
   "metadata": {},
   "outputs": [],
   "source": [
    "# creating a list with the areas of the 270 restuarants for our final dataframe\n",
    "full_area_names = []\n",
    "\n",
    "for i in area_names:\n",
    "    for num in range(9):\n",
    "        full_area_names.append(i)"
   ]
  },
  {
   "cell_type": "markdown",
   "id": "db03f8b6-f529-41c9-ae04-d8ed7026855c",
   "metadata": {},
   "source": [
    "## __Step 2 - Getting 9 restaurants for each of the 30 areas__"
   ]
  },
  {
   "cell_type": "code",
   "execution_count": 36,
   "id": "f590a912-5fc5-4190-bbc1-12d7ee4775c3",
   "metadata": {
    "tags": []
   },
   "outputs": [],
   "source": [
    "restaurant_names = []\n",
    "tags = []\n",
    "ratings = []\n",
    "prices = []\n",
    "links_rest = []\n",
    "\n",
    "# for each of the 30 areas\n",
    "for (link, area) in zip(restaurant_links, area_names):\n",
    "    resp2=requests.get(link, headers=headers)\n",
    "    soup2=BeautifulSoup(resp2.text, \"html.parser\")\n",
    "    all_contents2=soup2.findAll('div', {'class':'sc-iQtOjA dDlaSX'})[0]\n",
    "    \n",
    "    # get 9 restaurant names for each of the 30 areas\n",
    "    restaurants_names_info = all_contents2.findAll('h4')\n",
    "    for i in range(len(restaurants_names_info)):\n",
    "        restaurant_names.append(restaurants_names_info[i].text)\n",
    "        \n",
    "    # get the tags for each of the 30 areas\n",
    "    tags_info = all_contents2.findAll('p',  class_=re.compile(\"sc-1hez2tp-0 sc\")) #the html class name is dynamic, so we need to compile all of these to find the right one\n",
    "    tgs_info = [tags_info[i-1].text for i in range(len(tags_info)) if 'para dois' in tags_info[i].text]\n",
    "    for i in range(len(tgs_info)):\n",
    "        tags.append(tgs_info[i])\n",
    "    \n",
    "    # get the ratings for each of the 30 areas\n",
    "    ratings_info = all_contents2.findAll('div', {'class':'sc-1q7bklc-1 cILgox'})\n",
    "    for i in range(len(ratings_info)):\n",
    "        ratings.append(ratings_info[i].text)\n",
    "    \n",
    "    # get the prices for each of the 30 areas\n",
    "    prices_info = all_contents2.findAll('p',  class_=re.compile(\"sc-1hez2tp-0 sc\"))\n",
    "    prics_info = [i for i in prices_info if 'para dois' in i.text]\n",
    "    for i in range(len(prics_info)):\n",
    "        prices.append(float(prics_info[i].text[:2]))\n",
    "        \n",
    "    # get the links for each of the 30 areas\n",
    "    links_info = all_contents2.findAll('a', class_=re.compile(\"sc-\"))\n",
    "    lnks_info = [i for i in links_info if 'info' in str(i)][::2]\n",
    "    for i in range(len(lnks_info)):\n",
    "        links_rest.append('https://www.zomato.com' + lnks_info[i]['href'])"
   ]
  },
  {
   "cell_type": "code",
   "execution_count": 37,
   "id": "6b3a3b16-d965-4f1e-b5dc-581e23e936e2",
   "metadata": {},
   "outputs": [
    {
     "name": "stdout",
     "output_type": "stream",
     "text": [
      "270\n",
      "270\n",
      "270\n",
      "270\n",
      "270\n"
     ]
    }
   ],
   "source": [
    "# Checking we got the information for all 270 restaurants\n",
    "print(len(restaurant_names))\n",
    "print(len(tags))\n",
    "print(len(ratings))\n",
    "print(len(prices))\n",
    "print(len(links_rest))"
   ]
  },
  {
   "cell_type": "markdown",
   "id": "12425336-4d28-47c3-bba8-0eb887edeb2a",
   "metadata": {},
   "source": [
    "## __Step 3 - Creating dataframe and saving to .csv__"
   ]
  },
  {
   "cell_type": "code",
   "execution_count": 38,
   "id": "408dd091-772d-415e-a943-c902657daa5e",
   "metadata": {},
   "outputs": [
    {
     "data": {
      "text/html": [
       "<div>\n",
       "<style scoped>\n",
       "    .dataframe tbody tr th:only-of-type {\n",
       "        vertical-align: middle;\n",
       "    }\n",
       "\n",
       "    .dataframe tbody tr th {\n",
       "        vertical-align: top;\n",
       "    }\n",
       "\n",
       "    .dataframe thead th {\n",
       "        text-align: right;\n",
       "    }\n",
       "</style>\n",
       "<table border=\"1\" class=\"dataframe\">\n",
       "  <thead>\n",
       "    <tr style=\"text-align: right;\">\n",
       "      <th></th>\n",
       "      <th>Name</th>\n",
       "      <th>City Area</th>\n",
       "      <th>Price For Two</th>\n",
       "      <th>Ratings</th>\n",
       "      <th>Tags</th>\n",
       "      <th>Link</th>\n",
       "    </tr>\n",
       "  </thead>\n",
       "  <tbody>\n",
       "    <tr>\n",
       "      <th>0</th>\n",
       "      <td>Boa-Bao</td>\n",
       "      <td>Chiado</td>\n",
       "      <td>48.0</td>\n",
       "      <td>4.7</td>\n",
       "      <td>Oriental, Tailandesa, Malaia, Filipina, Vietna...</td>\n",
       "      <td>https://www.zomato.com/pt/boabao/info</td>\n",
       "    </tr>\n",
       "    <tr>\n",
       "      <th>1</th>\n",
       "      <td>Páteo - Bairro do Avillez</td>\n",
       "      <td>Chiado</td>\n",
       "      <td>50.0</td>\n",
       "      <td>4.5</td>\n",
       "      <td>Portuguesa, Mediterrânica, Marisqueira, Peixe ...</td>\n",
       "      <td>https://www.zomato.com/pt/grande-lisboa/páteo-...</td>\n",
       "    </tr>\n",
       "    <tr>\n",
       "      <th>2</th>\n",
       "      <td>Ao 26 Vegan Food Project</td>\n",
       "      <td>Chiado</td>\n",
       "      <td>40.0</td>\n",
       "      <td>4.7</td>\n",
       "      <td>Vegetariana, Comida saudável, Vegan</td>\n",
       "      <td>https://www.zomato.com/pt/grande-lisboa/ao-26-...</td>\n",
       "    </tr>\n",
       "    <tr>\n",
       "      <th>3</th>\n",
       "      <td>Cantinho do Avillez</td>\n",
       "      <td>Chiado</td>\n",
       "      <td>80.0</td>\n",
       "      <td>4.6</td>\n",
       "      <td>Portuguesa, Autor</td>\n",
       "      <td>https://www.zomato.com/pt/cantinhodoavillez/info</td>\n",
       "    </tr>\n",
       "    <tr>\n",
       "      <th>4</th>\n",
       "      <td>TOPO Chiado</td>\n",
       "      <td>Chiado</td>\n",
       "      <td>45.0</td>\n",
       "      <td>4.0</td>\n",
       "      <td>Bebidas, Pizza, Hamburgueria, Snacks</td>\n",
       "      <td>https://www.zomato.com/pt/grande-lisboa/topo-c...</td>\n",
       "    </tr>\n",
       "  </tbody>\n",
       "</table>\n",
       "</div>"
      ],
      "text/plain": [
       "                        Name City Area  Price For Two  Ratings  \\\n",
       "0                    Boa-Bao    Chiado           48.0      4.7   \n",
       "1  Páteo - Bairro do Avillez    Chiado           50.0      4.5   \n",
       "2   Ao 26 Vegan Food Project    Chiado           40.0      4.7   \n",
       "3        Cantinho do Avillez    Chiado           80.0      4.6   \n",
       "4                TOPO Chiado    Chiado           45.0      4.0   \n",
       "\n",
       "                                                Tags  \\\n",
       "0  Oriental, Tailandesa, Malaia, Filipina, Vietna...   \n",
       "1  Portuguesa, Mediterrânica, Marisqueira, Peixe ...   \n",
       "2                Vegetariana, Comida saudável, Vegan   \n",
       "3                                  Portuguesa, Autor   \n",
       "4               Bebidas, Pizza, Hamburgueria, Snacks   \n",
       "\n",
       "                                                Link  \n",
       "0              https://www.zomato.com/pt/boabao/info  \n",
       "1  https://www.zomato.com/pt/grande-lisboa/páteo-...  \n",
       "2  https://www.zomato.com/pt/grande-lisboa/ao-26-...  \n",
       "3   https://www.zomato.com/pt/cantinhodoavillez/info  \n",
       "4  https://www.zomato.com/pt/grande-lisboa/topo-c...  "
      ]
     },
     "execution_count": 38,
     "metadata": {},
     "output_type": "execute_result"
    }
   ],
   "source": [
    "# creating a dictionary to turn into a dataframe\n",
    "restaurant_data = {'Name': restaurant_names,\n",
    "                   'City Area': full_area_names, \n",
    "                   'Price For Two': prices, \n",
    "                   'Ratings': ratings, \n",
    "                   'Tags': tags, \n",
    "                   'Link': links_rest}\n",
    "\n",
    "df = pd.DataFrame(restaurant_data)\n",
    "df['Ratings'] = pd.to_numeric(df['Ratings'],errors='coerce')\n",
    "df.head()"
   ]
  },
  {
   "cell_type": "code",
   "execution_count": 39,
   "id": "45f29b1d-71c8-4747-9450-7ac9a947c028",
   "metadata": {},
   "outputs": [],
   "source": [
    "df.to_csv('restaurants_info.csv',index=False)"
   ]
  },
  {
   "cell_type": "code",
   "execution_count": 40,
   "id": "9a693ab9-15bf-4026-87bf-e3f3618619e4",
   "metadata": {},
   "outputs": [
    {
     "data": {
      "text/html": [
       "<div>\n",
       "<style scoped>\n",
       "    .dataframe tbody tr th:only-of-type {\n",
       "        vertical-align: middle;\n",
       "    }\n",
       "\n",
       "    .dataframe tbody tr th {\n",
       "        vertical-align: top;\n",
       "    }\n",
       "\n",
       "    .dataframe thead th {\n",
       "        text-align: right;\n",
       "    }\n",
       "</style>\n",
       "<table border=\"1\" class=\"dataframe\">\n",
       "  <thead>\n",
       "    <tr style=\"text-align: right;\">\n",
       "      <th></th>\n",
       "      <th>Name</th>\n",
       "      <th>City Area</th>\n",
       "      <th>Price For Two</th>\n",
       "      <th>Ratings</th>\n",
       "      <th>Tags</th>\n",
       "      <th>Link</th>\n",
       "    </tr>\n",
       "  </thead>\n",
       "  <tbody>\n",
       "    <tr>\n",
       "      <th>0</th>\n",
       "      <td>Boa-Bao</td>\n",
       "      <td>Chiado</td>\n",
       "      <td>48.0</td>\n",
       "      <td>4.7</td>\n",
       "      <td>Oriental, Tailandesa, Malaia, Filipina, Vietna...</td>\n",
       "      <td>https://www.zomato.com/pt/boabao/info</td>\n",
       "    </tr>\n",
       "    <tr>\n",
       "      <th>1</th>\n",
       "      <td>Páteo - Bairro do Avillez</td>\n",
       "      <td>Chiado</td>\n",
       "      <td>50.0</td>\n",
       "      <td>4.5</td>\n",
       "      <td>Portuguesa, Mediterrânica, Marisqueira, Peixe ...</td>\n",
       "      <td>https://www.zomato.com/pt/grande-lisboa/páteo-...</td>\n",
       "    </tr>\n",
       "    <tr>\n",
       "      <th>2</th>\n",
       "      <td>Ao 26 Vegan Food Project</td>\n",
       "      <td>Chiado</td>\n",
       "      <td>40.0</td>\n",
       "      <td>4.7</td>\n",
       "      <td>Vegetariana, Comida saudável, Vegan</td>\n",
       "      <td>https://www.zomato.com/pt/grande-lisboa/ao-26-...</td>\n",
       "    </tr>\n",
       "    <tr>\n",
       "      <th>3</th>\n",
       "      <td>Cantinho do Avillez</td>\n",
       "      <td>Chiado</td>\n",
       "      <td>80.0</td>\n",
       "      <td>4.6</td>\n",
       "      <td>Portuguesa, Autor</td>\n",
       "      <td>https://www.zomato.com/pt/cantinhodoavillez/info</td>\n",
       "    </tr>\n",
       "    <tr>\n",
       "      <th>4</th>\n",
       "      <td>TOPO Chiado</td>\n",
       "      <td>Chiado</td>\n",
       "      <td>45.0</td>\n",
       "      <td>4.0</td>\n",
       "      <td>Bebidas, Pizza, Hamburgueria, Snacks</td>\n",
       "      <td>https://www.zomato.com/pt/grande-lisboa/topo-c...</td>\n",
       "    </tr>\n",
       "  </tbody>\n",
       "</table>\n",
       "</div>"
      ],
      "text/plain": [
       "                        Name City Area  Price For Two  Ratings  \\\n",
       "0                    Boa-Bao    Chiado           48.0      4.7   \n",
       "1  Páteo - Bairro do Avillez    Chiado           50.0      4.5   \n",
       "2   Ao 26 Vegan Food Project    Chiado           40.0      4.7   \n",
       "3        Cantinho do Avillez    Chiado           80.0      4.6   \n",
       "4                TOPO Chiado    Chiado           45.0      4.0   \n",
       "\n",
       "                                                Tags  \\\n",
       "0  Oriental, Tailandesa, Malaia, Filipina, Vietna...   \n",
       "1  Portuguesa, Mediterrânica, Marisqueira, Peixe ...   \n",
       "2                Vegetariana, Comida saudável, Vegan   \n",
       "3                                  Portuguesa, Autor   \n",
       "4               Bebidas, Pizza, Hamburgueria, Snacks   \n",
       "\n",
       "                                                Link  \n",
       "0              https://www.zomato.com/pt/boabao/info  \n",
       "1  https://www.zomato.com/pt/grande-lisboa/páteo-...  \n",
       "2  https://www.zomato.com/pt/grande-lisboa/ao-26-...  \n",
       "3   https://www.zomato.com/pt/cantinhodoavillez/info  \n",
       "4  https://www.zomato.com/pt/grande-lisboa/topo-c...  "
      ]
     },
     "execution_count": 40,
     "metadata": {},
     "output_type": "execute_result"
    }
   ],
   "source": [
    "df = pd.read_csv('restaurants_info.csv').dropna()\n",
    "df.head()"
   ]
  },
  {
   "cell_type": "markdown",
   "id": "86fc522c-98d3-41a0-91c8-36c5eb81d0b0",
   "metadata": {},
   "source": [
    "## __Step 4 - Building a browser with ipy widgets__"
   ]
  },
  {
   "cell_type": "code",
   "execution_count": 41,
   "id": "e34b3d08-7f04-4e66-870f-2ed4e18f86de",
   "metadata": {},
   "outputs": [],
   "source": [
    "# This generates a list of all the unique tags that have been assigned to the restuarants in our dataset\n",
    "tags_list = []\n",
    "for tags in df['Tags']:\n",
    "    tags = tags.split(', ')\n",
    "    for tag in tags:\n",
    "        if tag not in tags_list:\n",
    "            tags_list.append(tag)\n",
    "\n",
    "# This defines a variable for when the user wants to choose \"All\" - this is only used in our restaurant Food Browser\n",
    "all_option = '--All--'           \n",
    "\n",
    "# This creates a list for the areas \n",
    "areas_list = sorted( list(set(list(df['City Area']))) + [all_option] )\n",
    "\n",
    "restaurant_types = {'Asian': ['Japanese', 'Sushi', 'Chinese', 'Oriental','Vietnamese','Korean','Indian','Thai','Malaysian','Asian','Ramen'],\n",
    "                   'Vegan/Vegetarian': ['Vegetarian', 'Vegan', 'Juices'],\n",
    "                   'Italian': ['Pizza', 'Italian'],\n",
    "                   'Fast Food': ['Pizza','Burger', 'Gourmet Fast Food', 'Street Food','Fast Food', 'BBQ', 'Ice Cream', 'Kebab', 'American', 'BBQ', 'Grill'],\n",
    "                   'Healthy Food': ['Vegetarian', 'Vegan', 'Healthy Food', 'Mediterranean', 'Seafood', 'Fresh Fish', 'Juices', 'Tea'],\n",
    "                   'European': ['Portuguese', 'Italian', 'Mediterranean', 'Spanish', 'Austrian', 'British', 'French','German','Tapas'],\n",
    "                   'Drinks, Coffee & Snacks': ['Tea','Tapas','Street Food', 'Ice Cream','Beverages', 'Cafe','Desserts','Bakery', 'Coffee', 'Crepes','Finger Food', 'Juices'],\n",
    "                   'Latin American': ['Mexican','Peruvian','Latin American', 'Argentine', 'Brazilian'],\n",
    "                   'Portuguese': ['Portuguese', 'Petiscos', 'Madeiran'],\n",
    "                   'Seafood': ['Fresh Fish','Seafood', 'Sushi'],\n",
    "                    'African': ['Mozambican', 'Cape Verdean', 'Moroccan', 'African'],\n",
    "                   'Middle Eastern': ['Kebab', 'Middle Eastern', 'Iranian', 'Lebanese']}\n",
    "\n",
    "food_types = sorted(list(restaurant_types.keys()) + [all_option])"
   ]
  },
  {
   "cell_type": "code",
   "execution_count": 42,
   "id": "a5a37361-72eb-4e90-bac9-34083d710ce2",
   "metadata": {},
   "outputs": [
    {
     "data": {
      "application/vnd.jupyter.widget-view+json": {
       "model_id": "7d262d9f3c7c417186af19f7e26c35b7",
       "version_major": 2,
       "version_minor": 0
      },
      "text/plain": [
       "VBox(children=(HBox(children=(Dropdown(description='City Area', options=('--All--', 'Alcântara', 'Algés', 'Alv…"
      ]
     },
     "metadata": {},
     "output_type": "display_data"
    },
    {
     "data": {
      "application/vnd.jupyter.widget-view+json": {
       "model_id": "c1602b1916b74b60b0b3199212a17414",
       "version_major": 2,
       "version_minor": 0
      },
      "text/plain": [
       "Output()"
      ]
     },
     "metadata": {},
     "output_type": "display_data"
    }
   ],
   "source": [
    "# Please run this code for the drop-down menus to work\n",
    "def browser(a, f, p, r):\n",
    "    # city area\n",
    "    if a!=all_option:\n",
    "        condition=(df['City Area']==a)\n",
    "    else:\n",
    "        condition=(~df['City Area'].isna())\n",
    "    # food type\n",
    "    if f!=all_option:\n",
    "        index_list=[]\n",
    "        for i in range(len(df)):\n",
    "            if any( tag in restaurant_types[f] for tag in list(df['Tags'][i].split(', ')) ):\n",
    "                index_list.append(i)    \n",
    "        condition2=(df.index.isin(index_list))\n",
    "    else:\n",
    "        condition2=(~df['Tags'].isna())\n",
    "    # price range\n",
    "    condition3=(df['Price For Two']<=p)\n",
    "    # minimum rating\n",
    "    condition4=(df['Ratings']>=r)\n",
    "    # displaying the dataframe\n",
    "    df_to_display = df[ (condition) & (condition2) & (condition3) & (condition4)]\n",
    "    if len(df_to_display) == 0:\n",
    "        print(\"Oops! There are no restaurants that match your search. PLease try reducing the filters.\")\n",
    "    else:\n",
    "        display(df_to_display)\n",
    "\n",
    "city_area = widgets.Dropdown(options=areas_list, description='City Area') \n",
    "food_type = widgets.Dropdown(options=food_types, description='Food Type')\n",
    "max_price = widgets.IntSlider(min=df['Price For Two'].min(), max=df['Price For Two'].max(), value=df['Price For Two'].max(), description='Max. Price For Two', style={'description_width': 'initial'})\n",
    "min_rating = widgets.FloatSlider(min=df['Ratings'].min(), max=df['Ratings'].max(), value=df['Ratings'].min(), step=0.1, description='Minimum Rating', style={'description_width': 'initial'})\n",
    "\n",
    "out = interactive_output(browser, {\"a\":city_area, \"f\":food_type, \"p\":max_price, \"r\":min_rating})\n",
    "\n",
    "hbox1 = HBox([city_area, food_type])\n",
    "hbox2 = HBox([max_price, min_rating])\n",
    "ui = VBox([hbox1, hbox2])\n",
    "\n",
    "display(ui,out)"
   ]
  },
  {
   "cell_type": "code",
   "execution_count": null,
   "id": "ab1e5660-efef-4d00-a46c-cde35802618c",
   "metadata": {},
   "outputs": [],
   "source": []
  }
 ],
 "metadata": {
  "kernelspec": {
   "display_name": "Python 3",
   "language": "python",
   "name": "python3"
  },
  "language_info": {
   "codemirror_mode": {
    "name": "ipython",
    "version": 3
   },
   "file_extension": ".py",
   "mimetype": "text/x-python",
   "name": "python",
   "nbconvert_exporter": "python",
   "pygments_lexer": "ipython3",
   "version": "3.8.8"
  }
 },
 "nbformat": 4,
 "nbformat_minor": 5
}
