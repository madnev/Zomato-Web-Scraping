{
 "cells": [
  {
   "cell_type": "markdown",
   "metadata": {},
   "source": [
    "# Scraping Lisbon's top 270 restaurants from Zomato"
   ]
  },
  {
   "cell_type": "markdown",
   "metadata": {},
   "source": [
    "## Importing Needed Packages"
   ]
  },
  {
   "cell_type": "code",
   "execution_count": 1,
   "metadata": {},
   "outputs": [],
   "source": [
    "import requests\n",
    "from bs4 import BeautifulSoup\n",
    "import re\n",
    "import pandas as pd"
   ]
  },
  {
   "cell_type": "markdown",
   "metadata": {},
   "source": [
    "## Scraping initial Information"
   ]
  },
  {
   "cell_type": "markdown",
   "metadata": {},
   "source": [
    "Zomato requires the user to be indentified through their user-agent. \n",
    "For more context: https://developer.mozilla.org/en-US/docs/Web/HTTP/Headers/User-Agent\n",
    "\n",
    "Google \"what is my user agent\" to find out your user-agent string"
   ]
  },
  {
   "cell_type": "code",
   "execution_count": 20,
   "metadata": {},
   "outputs": [],
   "source": [
    "# replace this with your user-agent string\n",
    "header = {'User-Agent': 'Mozilla/5.0 (Windows NT 10.0; Win64; x64; rv:94.0) Gecko/20100101 Firefox/94.0',\n",
    "         \"Accept-Language\": \"en-US,en;q=0.5\"}\n",
    "\n",
    "url = 'https://www.zomato.com/grande-lisboa'\n",
    "response = requests.get(url, headers=header) # include your user-agent in the request to have access to Zomato\n",
    "soup = BeautifulSoup(response.text, \"html.parser\")"
   ]
  },
  {
   "cell_type": "code",
   "execution_count": 21,
   "metadata": {
    "tags": []
   },
   "outputs": [
    {
     "name": "stdout",
     "output_type": "stream",
     "text": [
      "Number of areas (should be 30): 30\n",
      "Number of links (should be 30): 30\n"
     ]
    }
   ],
   "source": [
    "all_content = soup.findAll('div', {'class':'sc-bke1zw-0 fIuLDK'})[-1]\n",
    "\n",
    "area_names_ = all_content.findAll('h5')\n",
    "area_names = []\n",
    "for i in range(len(area_names_)):\n",
    "    area = area_names_[i].text.split(' ')[:-2]\n",
    "    name = ' '.join(area)\n",
    "    area_names.append(name)\n",
    "\n",
    "print(f\"Number of areas (should be 30): {len(area_names)}\")  \n",
    "\n",
    "\n",
    "area_links_ = all_content.findAll('a')\n",
    "area_links = []\n",
    "for i in range(len(area_links_)):\n",
    "    link = area_links_[i]['href']\n",
    "    area_links.append(link.replace('pt/',''))\n",
    "\n",
    "print(f\"Number of links (should be 30): {len(area_links)}\")"
   ]
  },
  {
   "cell_type": "markdown",
   "metadata": {},
   "source": [
    "## Getting needed information for each of the 30 areas in Lisbon"
   ]
  },
  {
   "cell_type": "code",
   "execution_count": 31,
   "metadata": {
    "tags": []
   },
   "outputs": [],
   "source": [
    "restaurant_area = []\n",
    "restaurant_name = []\n",
    "restaurant_tags = []\n",
    "restaurant_rating = []\n",
    "restaurant_price = []\n",
    "restaurant_link = []\n",
    "\n",
    "for link, area in zip(area_links, area_names):\n",
    "    \n",
    "    resp2=requests.get(link, headers=header)\n",
    "    soup2=BeautifulSoup(resp2.text, \"html.parser\")\n",
    "    all_contents2=soup2.findAll('div', {'class':'sc-gVyKpa ieQGou'})[0]\n",
    "    \n",
    "    # Area of each restaurant\n",
    "    for i in range(9): #there are 9 restaurants per each of the 30 areas\n",
    "        restaurant_area.append(area)\n",
    "    \n",
    "    # Name of each restaurant\n",
    "    restaurants_name_ = all_contents2.findAll('h4')\n",
    "    for i in range(len(restaurants_name_)):\n",
    "        restaurant_name.append(restaurants_name_[i].text)\n",
    "    \n",
    "    # Tags of each restaurant\n",
    "    tags_ = all_contents2.findAll('p',  class_=re.compile(\"sc-1hez2tp-0 sc\"))\n",
    "    restaurant_tags_ = [tags_[i-1].text for i in range(len(tags_)) if 'for two' in tags_[i].text]\n",
    "    for i in range(len(restaurant_tags_)):\n",
    "        restaurant_tags.append(restaurant_tags_[i])\n",
    "    \n",
    "    # Rating of each restaurant\n",
    "    restaurant_rating_ = all_contents2.findAll('div', {'class':'sc-1q7bklc-1 cILgox'})\n",
    "    for i in range(len(restaurant_rating_)):\n",
    "        restaurant_rating.append(restaurant_rating_[i].text)\n",
    "\n",
    "    # Prices of each restuarant\n",
    "    prices = all_contents2.findAll('p',  class_=re.compile(\"sc-1hez2tp-0 sc\"))\n",
    "    restaurant_price_ = [i for i in prices if 'for two' in i.text]\n",
    "    for i in range(len(restaurant_price_)):\n",
    "        restaurant_price.append(float(restaurant_price_[i].text[:2]))\n",
    "           \n",
    "    # Link of each restaurant\n",
    "    links = all_contents2.findAll('a', class_=re.compile(\"sc-\"))\n",
    "    restaurant_link_ = [i for i in links if 'info' in str(i)][::2]\n",
    "    for i in range(len(restaurant_link_)):\n",
    "        restaurant_link.append('https://www.zomato.com' + restaurant_link_[i]['href'])"
   ]
  },
  {
   "cell_type": "code",
   "execution_count": 32,
   "metadata": {},
   "outputs": [
    {
     "name": "stdout",
     "output_type": "stream",
     "text": [
      "270\n",
      "270\n",
      "270\n",
      "270\n",
      "270\n",
      "270\n"
     ]
    }
   ],
   "source": [
    "# checking length of each list (should by 270)\n",
    "print(len(restaurant_area))\n",
    "print(len(restaurant_name))\n",
    "print(len(restaurant_tags))\n",
    "print(len(restaurant_rating))\n",
    "print(len(restaurant_price))\n",
    "print(len(restaurant_link))"
   ]
  },
  {
   "cell_type": "markdown",
   "metadata": {},
   "source": [
    "### Creating dataframe and saving to .csv"
   ]
  },
  {
   "cell_type": "code",
   "execution_count": 36,
   "metadata": {},
   "outputs": [],
   "source": [
    "restaurant_data = {'Name': restaurant_name,\n",
    "                   'City Area': restaurant_area, \n",
    "                   'Price For Two': restaurant_price, \n",
    "                   'Ratings': restaurant_rating, \n",
    "                   'Tags': restaurant_tags, \n",
    "                   'Link': restaurant_link}\n",
    "\n",
    "df = pd.DataFrame(restaurant_data)\n",
    "df.to_csv('restaurants.csv', index=False)"
   ]
  },
  {
   "cell_type": "code",
   "execution_count": 37,
   "metadata": {},
   "outputs": [
    {
     "data": {
      "text/html": [
       "<div>\n",
       "<style scoped>\n",
       "    .dataframe tbody tr th:only-of-type {\n",
       "        vertical-align: middle;\n",
       "    }\n",
       "\n",
       "    .dataframe tbody tr th {\n",
       "        vertical-align: top;\n",
       "    }\n",
       "\n",
       "    .dataframe thead th {\n",
       "        text-align: right;\n",
       "    }\n",
       "</style>\n",
       "<table border=\"1\" class=\"dataframe\">\n",
       "  <thead>\n",
       "    <tr style=\"text-align: right;\">\n",
       "      <th></th>\n",
       "      <th>Name</th>\n",
       "      <th>City Area</th>\n",
       "      <th>Price For Two</th>\n",
       "      <th>Ratings</th>\n",
       "      <th>Tags</th>\n",
       "      <th>Link</th>\n",
       "    </tr>\n",
       "  </thead>\n",
       "  <tbody>\n",
       "    <tr>\n",
       "      <th>0</th>\n",
       "      <td>Ao 26 Vegan Food Project</td>\n",
       "      <td>Chiado</td>\n",
       "      <td>40.0</td>\n",
       "      <td>4.6</td>\n",
       "      <td>Vegetarian, Healthy Food, Vegan</td>\n",
       "      <td>https://www.zomato.com/grande-lisboa/ao-26-veg...</td>\n",
       "    </tr>\n",
       "    <tr>\n",
       "      <th>1</th>\n",
       "      <td>TOPO Chiado</td>\n",
       "      <td>Chiado</td>\n",
       "      <td>45.0</td>\n",
       "      <td>4.0</td>\n",
       "      <td>Beverages, Pizza, Burger, Finger Food</td>\n",
       "      <td>https://www.zomato.com/grande-lisboa/topo-chia...</td>\n",
       "    </tr>\n",
       "    <tr>\n",
       "      <th>2</th>\n",
       "      <td>Kaffeehaus</td>\n",
       "      <td>Chiado</td>\n",
       "      <td>30.0</td>\n",
       "      <td>4.3</td>\n",
       "      <td>Austrian, Cafe, Desserts, Finger Food</td>\n",
       "      <td>https://www.zomato.com/grande-lisboa/kaffeehau...</td>\n",
       "    </tr>\n",
       "    <tr>\n",
       "      <th>3</th>\n",
       "      <td>To.B</td>\n",
       "      <td>Chiado</td>\n",
       "      <td>25.0</td>\n",
       "      <td>4.2</td>\n",
       "      <td>Burger</td>\n",
       "      <td>https://www.zomato.com/grande-lisboa/to-b-chia...</td>\n",
       "    </tr>\n",
       "    <tr>\n",
       "      <th>4</th>\n",
       "      <td>Sea Me - Peixaria Moderna</td>\n",
       "      <td>Chiado</td>\n",
       "      <td>70.0</td>\n",
       "      <td>4.5</td>\n",
       "      <td>Fresh Fish, Seafood, Japanese, Fusion</td>\n",
       "      <td>https://www.zomato.com/grande-lisboa/sea-me-pe...</td>\n",
       "    </tr>\n",
       "  </tbody>\n",
       "</table>\n",
       "</div>"
      ],
      "text/plain": [
       "                        Name City Area  Price For Two Ratings  \\\n",
       "0   Ao 26 Vegan Food Project    Chiado           40.0     4.6   \n",
       "1                TOPO Chiado    Chiado           45.0     4.0   \n",
       "2                 Kaffeehaus    Chiado           30.0     4.3   \n",
       "3                       To.B    Chiado           25.0     4.2   \n",
       "4  Sea Me - Peixaria Moderna    Chiado           70.0     4.5   \n",
       "\n",
       "                                    Tags  \\\n",
       "0        Vegetarian, Healthy Food, Vegan   \n",
       "1  Beverages, Pizza, Burger, Finger Food   \n",
       "2  Austrian, Cafe, Desserts, Finger Food   \n",
       "3                                 Burger   \n",
       "4  Fresh Fish, Seafood, Japanese, Fusion   \n",
       "\n",
       "                                                Link  \n",
       "0  https://www.zomato.com/grande-lisboa/ao-26-veg...  \n",
       "1  https://www.zomato.com/grande-lisboa/topo-chia...  \n",
       "2  https://www.zomato.com/grande-lisboa/kaffeehau...  \n",
       "3  https://www.zomato.com/grande-lisboa/to-b-chia...  \n",
       "4  https://www.zomato.com/grande-lisboa/sea-me-pe...  "
      ]
     },
     "execution_count": 37,
     "metadata": {},
     "output_type": "execute_result"
    }
   ],
   "source": [
    "df.head()"
   ]
  },
  {
   "cell_type": "code",
   "execution_count": 38,
   "metadata": {},
   "outputs": [
    {
     "data": {
      "text/html": [
       "<div>\n",
       "<style scoped>\n",
       "    .dataframe tbody tr th:only-of-type {\n",
       "        vertical-align: middle;\n",
       "    }\n",
       "\n",
       "    .dataframe tbody tr th {\n",
       "        vertical-align: top;\n",
       "    }\n",
       "\n",
       "    .dataframe thead th {\n",
       "        text-align: right;\n",
       "    }\n",
       "</style>\n",
       "<table border=\"1\" class=\"dataframe\">\n",
       "  <thead>\n",
       "    <tr style=\"text-align: right;\">\n",
       "      <th></th>\n",
       "      <th>Name</th>\n",
       "      <th>City Area</th>\n",
       "      <th>Price For Two</th>\n",
       "      <th>Ratings</th>\n",
       "      <th>Tags</th>\n",
       "      <th>Link</th>\n",
       "    </tr>\n",
       "  </thead>\n",
       "  <tbody>\n",
       "    <tr>\n",
       "      <th>265</th>\n",
       "      <td>Bowls&amp;Bar</td>\n",
       "      <td>São Bento</td>\n",
       "      <td>15.0</td>\n",
       "      <td>3.8</td>\n",
       "      <td>Healthy Food, Finger Food, Juices, Cafe, Bever...</td>\n",
       "      <td>https://www.zomato.com/grande-lisboa/bowls-bar...</td>\n",
       "    </tr>\n",
       "    <tr>\n",
       "      <th>266</th>\n",
       "      <td>Hamburgueria do Bairro</td>\n",
       "      <td>São Bento</td>\n",
       "      <td>16.0</td>\n",
       "      <td>4.1</td>\n",
       "      <td>Burger, Gourmet Fast Food</td>\n",
       "      <td>https://www.zomato.com/grande-lisboa/hamburgue...</td>\n",
       "    </tr>\n",
       "    <tr>\n",
       "      <th>267</th>\n",
       "      <td>Zapata</td>\n",
       "      <td>São Bento</td>\n",
       "      <td>35.0</td>\n",
       "      <td>4.1</td>\n",
       "      <td>Portuguese, Seafood</td>\n",
       "      <td>https://www.zomato.com/grande-lisboa/zapata-sã...</td>\n",
       "    </tr>\n",
       "    <tr>\n",
       "      <th>268</th>\n",
       "      <td>Veramente Pizza &amp; Vino</td>\n",
       "      <td>São Bento</td>\n",
       "      <td>30.0</td>\n",
       "      <td>3.7</td>\n",
       "      <td>Pizza, Italian</td>\n",
       "      <td>https://www.zomato.com/grande-lisboa/veramente...</td>\n",
       "    </tr>\n",
       "    <tr>\n",
       "      <th>269</th>\n",
       "      <td>Break</td>\n",
       "      <td>São Bento</td>\n",
       "      <td>20.0</td>\n",
       "      <td>4.0</td>\n",
       "      <td>Finger Food, Portuguese, Petiscos</td>\n",
       "      <td>https://www.zomato.com/grande-lisboa/break-são...</td>\n",
       "    </tr>\n",
       "  </tbody>\n",
       "</table>\n",
       "</div>"
      ],
      "text/plain": [
       "                       Name  City Area  Price For Two Ratings  \\\n",
       "265               Bowls&Bar  São Bento           15.0     3.8   \n",
       "266  Hamburgueria do Bairro  São Bento           16.0     4.1   \n",
       "267                  Zapata  São Bento           35.0     4.1   \n",
       "268  Veramente Pizza & Vino  São Bento           30.0     3.7   \n",
       "269                   Break  São Bento           20.0     4.0   \n",
       "\n",
       "                                                  Tags  \\\n",
       "265  Healthy Food, Finger Food, Juices, Cafe, Bever...   \n",
       "266                          Burger, Gourmet Fast Food   \n",
       "267                                Portuguese, Seafood   \n",
       "268                                     Pizza, Italian   \n",
       "269                  Finger Food, Portuguese, Petiscos   \n",
       "\n",
       "                                                  Link  \n",
       "265  https://www.zomato.com/grande-lisboa/bowls-bar...  \n",
       "266  https://www.zomato.com/grande-lisboa/hamburgue...  \n",
       "267  https://www.zomato.com/grande-lisboa/zapata-sã...  \n",
       "268  https://www.zomato.com/grande-lisboa/veramente...  \n",
       "269  https://www.zomato.com/grande-lisboa/break-são...  "
      ]
     },
     "execution_count": 38,
     "metadata": {},
     "output_type": "execute_result"
    }
   ],
   "source": [
    "df.tail()"
   ]
  },
  {
   "cell_type": "code",
   "execution_count": null,
   "metadata": {},
   "outputs": [],
   "source": []
  },
  {
   "cell_type": "code",
   "execution_count": null,
   "metadata": {},
   "outputs": [],
   "source": []
  }
 ],
 "metadata": {
  "kernelspec": {
   "display_name": "Python 3",
   "language": "python",
   "name": "python3"
  },
  "language_info": {
   "codemirror_mode": {
    "name": "ipython",
    "version": 3
   },
   "file_extension": ".py",
   "mimetype": "text/x-python",
   "name": "python",
   "nbconvert_exporter": "python",
   "pygments_lexer": "ipython3",
   "version": "3.8.3"
  }
 },
 "nbformat": 4,
 "nbformat_minor": 5
}
